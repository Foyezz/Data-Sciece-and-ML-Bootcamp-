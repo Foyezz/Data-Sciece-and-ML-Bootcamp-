{
 "cells": [
  {
   "cell_type": "markdown",
   "id": "68c5670f",
   "metadata": {},
   "source": [
    "## Import all Dependencies"
   ]
  },
  {
   "cell_type": "code",
   "execution_count": 480,
   "id": "ba6e2fb0",
   "metadata": {},
   "outputs": [],
   "source": [
    "from numpy.random import seed\n",
    "seed(888)\n",
    "\n",
    "import itertools\n",
    "\n",
    "import tensorflow as tf\n",
    "tf.random.set_seed(404)\n",
    "\n",
    "import os\n",
    "import numpy as np\n",
    "import keras \n",
    "\n",
    "from keras.datasets import cifar10\n",
    "from keras.models import Sequential\n",
    "from keras.layers import Dense, Activation, Dropout\n",
    "from keras.callbacks import TensorBoard\n",
    "\n",
    "from time import strftime\n",
    "\n",
    "from sklearn.metrics import confusion_matrix\n",
    "\n",
    "from IPython.display import display\n",
    "from tensorflow.keras.preprocessing.image import array_to_img\n",
    "\n",
    "import matplotlib.pyplot as plt\n",
    "\n",
    "%matplotlib inline"
   ]
  },
  {
   "cell_type": "markdown",
   "id": "3ac6e1e0",
   "metadata": {},
   "source": [
    "## Constants"
   ]
  },
  {
   "cell_type": "code",
   "execution_count": 474,
   "id": "7c6cab7a",
   "metadata": {},
   "outputs": [],
   "source": [
    "LOG_DIR = 'tensorboard_cifar_logs/' # Create a directory for tensorboard\n",
    "\n",
    "LABEL_NAME = ['Plane', 'Car', 'Bird', 'Cat', 'Deer', 'Dog', 'Frog', 'Horse', 'Ship', 'Truck']\n",
    "\n",
    "IMAGE_WIDTH = 32\n",
    "IMAGE_HEIGHT = 32\n",
    "IMAGE_PIXELS = IMAGE_HEIGHT * IMAGE_WIDTH\n",
    "COLOR_CHANNELS = 3\n",
    "TOTAL_INPUTS = IMAGE_PIXELS * COLOR_CHANNELS\n",
    "NR_CLASSES = 10\n",
    "\n",
    "VALIDATION_SIZE = 10000\n",
    "SMALL_TRAIN_SIZE = 1000"
   ]
  },
  {
   "cell_type": "markdown",
   "id": "20cda056",
   "metadata": {},
   "source": [
    "## Get the Data"
   ]
  },
  {
   "cell_type": "code",
   "execution_count": 400,
   "id": "14943f34",
   "metadata": {},
   "outputs": [],
   "source": [
    "(x_train_all, y_train_all), (x_test, y_test) = cifar10.load_data()"
   ]
  },
  {
   "cell_type": "code",
   "execution_count": 401,
   "id": "ea4bc2f6",
   "metadata": {},
   "outputs": [
    {
     "data": {
      "text/plain": [
       "module"
      ]
     },
     "execution_count": 401,
     "metadata": {},
     "output_type": "execute_result"
    }
   ],
   "source": [
    "type(cifar10)"
   ]
  },
  {
   "cell_type": "code",
   "execution_count": 402,
   "id": "cd8bb972",
   "metadata": {},
   "outputs": [
    {
     "data": {
      "text/plain": [
       "numpy.ndarray"
      ]
     },
     "execution_count": 402,
     "metadata": {},
     "output_type": "execute_result"
    }
   ],
   "source": [
    "type(x_train_all)"
   ]
  },
  {
   "cell_type": "markdown",
   "id": "44a5e5d1",
   "metadata": {},
   "source": [
    "## Explore the Data"
   ]
  },
  {
   "cell_type": "code",
   "execution_count": 403,
   "id": "493ddc3f",
   "metadata": {},
   "outputs": [
    {
     "data": {
      "text/plain": [
       "(32, 32, 3)"
      ]
     },
     "execution_count": 403,
     "metadata": {},
     "output_type": "execute_result"
    }
   ],
   "source": [
    "x_train_all[0].shape"
   ]
  },
  {
   "cell_type": "code",
   "execution_count": 404,
   "id": "41ef2516",
   "metadata": {},
   "outputs": [
    {
     "data": {
      "image/png": "[encoded data removed]",
      "text/plain": [
       "<PIL.Image.Image image mode=RGB size=32x32 at 0x17EF0676CA0>"
      ]
     },
     "metadata": {},
     "output_type": "display_data"
    }
   ],
   "source": [
    "pic = array_to_img(x_train_all[7])\n",
    "display(pic)"
   ]
  },
  {
   "cell_type": "code",
   "execution_count": 405,
   "id": "7265bdb7",
   "metadata": {},
   "outputs": [
    {
     "data": {
      "text/plain": [
       "(50000, 1)"
      ]
     },
     "execution_count": 405,
     "metadata": {},
     "output_type": "execute_result"
    }
   ],
   "source": [
    "y_train_all.shape"
   ]
  },
  {
   "cell_type": "code",
   "execution_count": 406,
   "id": "f9ef1638",
   "metadata": {},
   "outputs": [
    {
     "data": {
      "text/plain": [
       "7"
      ]
     },
     "execution_count": 406,
     "metadata": {},
     "output_type": "execute_result"
    }
   ],
   "source": [
    "y_train_all[7][0]"
   ]
  },
  {
   "cell_type": "code",
   "execution_count": 407,
   "id": "9162b3dd",
   "metadata": {},
   "outputs": [
    {
     "data": {
      "text/plain": [
       "'Horse'"
      ]
     },
     "execution_count": 407,
     "metadata": {},
     "output_type": "execute_result"
    }
   ],
   "source": [
    "LABEL_NAME[y_train_all[7][0]]"
   ]
  },
  {
   "cell_type": "code",
   "execution_count": 408,
   "id": "19d1c9c3",
   "metadata": {
    "scrolled": true
   },
   "outputs": [
    {
     "data": {
      "image/png": "[encoded data removed]",
      "text/plain": [
       "<Figure size 432x288 with 1 Axes>"
      ]
     },
     "metadata": {
      "needs_background": "light"
     },
     "output_type": "display_data"
    }
   ],
   "source": [
    "plt.imshow(x_train_all[4])\n",
    "\n",
    "plt.xlabel(LABEL_NAME[y_train_all[4][0]], fontsize = 15)\n",
    "\n",
    "plt.show()"
   ]
  },
  {
   "cell_type": "code",
   "execution_count": 409,
   "id": "8a2b15e5",
   "metadata": {},
   "outputs": [
    {
     "data": {
      "image/png": "[encoded data removed]",
      "text/plain": [
       "<Figure size 1080x360 with 10 Axes>"
      ]
     },
     "metadata": {},
     "output_type": "display_data"
    }
   ],
   "source": [
    "plt.figure(figsize = (15, 5))\n",
    "\n",
    "\n",
    "for i in range(10):\n",
    "    plt.subplot(1, 10, i + 1)\n",
    "    \n",
    "    plt.xticks([])               # empty square bracket means tick marks will be blank\n",
    "    plt.yticks([])\n",
    "    \n",
    "    plt.xlabel(LABEL_NAME[y_train_all[i][0]], fontsize = 14)\n",
    "    \n",
    "    plt.imshow(x_train_all[i])"
   ]
  },
  {
   "cell_type": "code",
   "execution_count": 410,
   "id": "fad57e65",
   "metadata": {},
   "outputs": [
    {
     "data": {
      "text/plain": [
       "(50000, 32, 32, 3)"
      ]
     },
     "execution_count": 410,
     "metadata": {},
     "output_type": "execute_result"
    }
   ],
   "source": [
    "x_train_all.shape    # 4d array"
   ]
  },
  {
   "cell_type": "code",
   "execution_count": 411,
   "id": "3e20a4e5",
   "metadata": {},
   "outputs": [
    {
     "name": "stdout",
     "output_type": "stream",
     "text": [
      "images = 50000 \t | height = 32 \t | width = 32 \t | channels = 3\n"
     ]
    }
   ],
   "source": [
    "nr_images, x, y, c = x_train_all.shape\n",
    "\n",
    "print(f'images = {nr_images} \\t | height = {y} \\t | width = {x} \\t | channels = {c}' )"
   ]
  },
  {
   "cell_type": "code",
   "execution_count": 412,
   "id": "1b34a0a4",
   "metadata": {},
   "outputs": [
    {
     "data": {
      "text/plain": [
       "(10000, 32, 32, 3)"
      ]
     },
     "execution_count": 412,
     "metadata": {},
     "output_type": "execute_result"
    }
   ],
   "source": [
    "x_test.shape"
   ]
  },
  {
   "cell_type": "markdown",
   "id": "e7697199",
   "metadata": {},
   "source": [
    "## Preprocess Data"
   ]
  },
  {
   "cell_type": "code",
   "execution_count": 413,
   "id": "7e45a327",
   "metadata": {},
   "outputs": [
    {
     "data": {
      "text/plain": [
       "array([59, 62, 63], dtype=uint8)"
      ]
     },
     "execution_count": 413,
     "metadata": {},
     "output_type": "execute_result"
    }
   ],
   "source": [
    "x_train_all[0][0][0]   # RGB channels"
   ]
  },
  {
   "cell_type": "code",
   "execution_count": 414,
   "id": "828c1432",
   "metadata": {},
   "outputs": [
    {
     "data": {
      "text/plain": [
       "59"
      ]
     },
     "execution_count": 414,
     "metadata": {},
     "output_type": "execute_result"
    }
   ],
   "source": [
    "x_train_all[0][0][0][0]"
   ]
  },
  {
   "cell_type": "code",
   "execution_count": 415,
   "id": "365ea7cd",
   "metadata": {},
   "outputs": [
    {
     "data": {
      "text/plain": [
       "numpy.uint8"
      ]
     },
     "execution_count": 415,
     "metadata": {},
     "output_type": "execute_result"
    }
   ],
   "source": [
    "type(x_train_all[0][0][0][0])    # 8 bit unsigned(+) integer"
   ]
  },
  {
   "cell_type": "code",
   "execution_count": 416,
   "id": "ab67f21d",
   "metadata": {},
   "outputs": [],
   "source": [
    "# converting the array into small float \n",
    "x_train_all, x_test = x_train_all/255.0, x_test/255.0       # Red, green, blue = 255 max"
   ]
  },
  {
   "cell_type": "code",
   "execution_count": 417,
   "id": "a93e62ea",
   "metadata": {},
   "outputs": [
    {
     "data": {
      "text/plain": [
       "0.23137254901960785"
      ]
     },
     "execution_count": 417,
     "metadata": {},
     "output_type": "execute_result"
    }
   ],
   "source": [
    "x_train_all[0][0][0][0]"
   ]
  },
  {
   "cell_type": "code",
   "execution_count": 418,
   "id": "92934d98",
   "metadata": {},
   "outputs": [
    {
     "data": {
      "text/plain": [
       "(50000, 32, 32, 3)"
      ]
     },
     "execution_count": 418,
     "metadata": {},
     "output_type": "execute_result"
    }
   ],
   "source": [
    "x_train_all.shape"
   ]
  },
  {
   "cell_type": "code",
   "execution_count": 419,
   "id": "194fa4b0",
   "metadata": {},
   "outputs": [
    {
     "data": {
      "text/plain": [
       "50000"
      ]
     },
     "execution_count": 419,
     "metadata": {},
     "output_type": "execute_result"
    }
   ],
   "source": [
    "x_train_all.shape[0]"
   ]
  },
  {
   "cell_type": "code",
   "execution_count": 420,
   "id": "35064722",
   "metadata": {},
   "outputs": [],
   "source": [
    "x_train_all = x_train_all.reshape(x_train_all.shape[0], TOTAL_INPUTS)"
   ]
  },
  {
   "cell_type": "code",
   "execution_count": 421,
   "id": "b3bf0ec0",
   "metadata": {},
   "outputs": [
    {
     "data": {
      "text/plain": [
       "(50000, 3072)"
      ]
     },
     "execution_count": 421,
     "metadata": {},
     "output_type": "execute_result"
    }
   ],
   "source": [
    "x_train_all.shape"
   ]
  },
  {
   "cell_type": "code",
   "execution_count": 422,
   "id": "92daa9df",
   "metadata": {},
   "outputs": [
    {
     "data": {
      "text/plain": [
       "1"
      ]
     },
     "execution_count": 422,
     "metadata": {},
     "output_type": "execute_result"
    }
   ],
   "source": [
    "x_train_all[0].ndim"
   ]
  },
  {
   "cell_type": "code",
   "execution_count": 423,
   "id": "bc5808ff",
   "metadata": {},
   "outputs": [
    {
     "data": {
      "text/plain": [
       "(3072,)"
      ]
     },
     "execution_count": 423,
     "metadata": {},
     "output_type": "execute_result"
    }
   ],
   "source": [
    "x_train_all[0].shape"
   ]
  },
  {
   "cell_type": "code",
   "execution_count": 424,
   "id": "bd478faf",
   "metadata": {},
   "outputs": [
    {
     "data": {
      "text/plain": [
       "array([0.62, 0.44, 0.19])"
      ]
     },
     "execution_count": 424,
     "metadata": {},
     "output_type": "execute_result"
    }
   ],
   "source": [
    "x_test[0][0][0]"
   ]
  },
  {
   "cell_type": "code",
   "execution_count": 425,
   "id": "cc7a0a50",
   "metadata": {},
   "outputs": [
    {
     "data": {
      "text/plain": [
       "10000"
      ]
     },
     "execution_count": 425,
     "metadata": {},
     "output_type": "execute_result"
    }
   ],
   "source": [
    "len(x_test)"
   ]
  },
  {
   "cell_type": "code",
   "execution_count": 426,
   "id": "4c06906e",
   "metadata": {},
   "outputs": [
    {
     "data": {
      "text/plain": [
       "(10000, 32, 32, 3)"
      ]
     },
     "execution_count": 426,
     "metadata": {},
     "output_type": "execute_result"
    }
   ],
   "source": [
    "x_test.shape"
   ]
  },
  {
   "cell_type": "code",
   "execution_count": 427,
   "id": "4adbaf88",
   "metadata": {},
   "outputs": [
    {
     "name": "stdout",
     "output_type": "stream",
     "text": [
      "The Shape of x_test is: (10000, 3072)\n"
     ]
    }
   ],
   "source": [
    "x_test = x_test.reshape(x_test.shape[0], TOTAL_INPUTS)\n",
    "print(f'The Shape of x_test is: {x_test.shape}')"
   ]
  },
  {
   "cell_type": "markdown",
   "id": "4edd1138",
   "metadata": {},
   "source": [
    "### Create Validation Dataset"
   ]
  },
  {
   "cell_type": "code",
   "execution_count": 428,
   "id": "8c3d2f5e",
   "metadata": {},
   "outputs": [],
   "source": [
    "x_val = x_train_all[:VALIDATION_SIZE]\n",
    "y_val = y_train_all[:VALIDATION_SIZE]"
   ]
  },
  {
   "cell_type": "code",
   "execution_count": 429,
   "id": "fbdea0de",
   "metadata": {},
   "outputs": [
    {
     "name": "stdout",
     "output_type": "stream",
     "text": [
      "(10000, 3072) (10000, 1)\n"
     ]
    }
   ],
   "source": [
    "print(x_val.shape, y_val.shape)"
   ]
  },
  {
   "cell_type": "code",
   "execution_count": 430,
   "id": "be2c87ca",
   "metadata": {},
   "outputs": [
    {
     "name": "stdout",
     "output_type": "stream",
     "text": [
      "(40000, 3072) (40000, 1)\n"
     ]
    }
   ],
   "source": [
    "# Create the training dataset\n",
    "x_train = x_train_all[VALIDATION_SIZE:]\n",
    "y_train = y_train_all[VALIDATION_SIZE:]\n",
    "print(x_train.shape, y_train.shape)"
   ]
  },
  {
   "cell_type": "markdown",
   "id": "fe8ee580",
   "metadata": {},
   "source": [
    "### Create a small dataset (for illustration)"
   ]
  },
  {
   "cell_type": "code",
   "execution_count": 431,
   "id": "352144ba",
   "metadata": {},
   "outputs": [
    {
     "name": "stdout",
     "output_type": "stream",
     "text": [
      "(1000, 3072) (1000, 1)\n"
     ]
    }
   ],
   "source": [
    "x_train_xs = x_train[:SMALL_TRAIN_SIZE]\n",
    "y_train_xs = y_train[:SMALL_TRAIN_SIZE]\n",
    "print(x_train_xs.shape, y_train_xs.shape)"
   ]
  },
  {
   "cell_type": "markdown",
   "id": "031310f4",
   "metadata": {},
   "source": [
    "## Define the Neural Network using Keras"
   ]
  },
  {
   "cell_type": "code",
   "execution_count": 432,
   "id": "fc271f6d",
   "metadata": {},
   "outputs": [],
   "source": [
    "model_1 = Sequential([\n",
    "    \n",
    "    Dense(units = 128, input_dim = TOTAL_INPUTS, activation = 'relu', name = 'm1_hidden1'),\n",
    "    Dense(units = 64, activation = 'relu', name = 'm1_hidden2'),\n",
    "    Dense(units = 16, activation = 'relu', name = 'm1_hidden3'),\n",
    "    Dense(units = 10, activation = 'softmax', name = 'mi_output')\n",
    "\n",
    "])\n",
    "\n",
    "model_1.compile(optimizer = 'adam',\n",
    "                loss = 'sparse_categorical_crossentropy',\n",
    "                metrics = ['accuracy'])"
   ]
  },
  {
   "cell_type": "code",
   "execution_count": 433,
   "id": "9cede00c",
   "metadata": {},
   "outputs": [],
   "source": [
    "model_2 = Sequential()\n",
    "\n",
    "model_2.add(Dropout(rate = 0.2, seed = 42, input_shape = (TOTAL_INPUTS,)))\n",
    "\n",
    "model_2.add(Dense(128, activation = 'relu', name = 'm2_hidden1'))\n",
    "model_2.add(Dense(64, activation = 'relu', name = 'm2_hidden2'))\n",
    "model_2.add(Dense(16, activation = 'relu', name = 'm2_hidden3'))\n",
    "model_2.add(Dense(10, activation = 'softmax', name = 'm2_output'))\n",
    "\n",
    "model_2.compile(optimizer = 'adam',\n",
    "                loss = 'sparse_categorical_crossentropy',\n",
    "                metrics = ['accuracy'])"
   ]
  },
  {
   "cell_type": "code",
   "execution_count": 434,
   "id": "8f08e589",
   "metadata": {},
   "outputs": [],
   "source": [
    "model_3 = Sequential()\n",
    "\n",
    "model_3.add(Dropout(rate = 0.2, seed = 42, input_shape = (TOTAL_INPUTS,)))\n",
    "\n",
    "model_3.add(Dense(128, activation = 'relu', name = 'm3_hidden1'))\n",
    "\n",
    "model_3.add(Dropout(0.25, seed = 42))\n",
    "\n",
    "model_3.add(Dense(64, activation = 'relu', name = 'm3_hidden2'))\n",
    "model_3.add(Dense(16, activation = 'relu', name = 'm3_hidden3'))\n",
    "model_3.add(Dense(10, activation = 'softmax', name = 'm3_output'))\n",
    "\n",
    "model_3.compile(optimizer = 'adam',\n",
    "                loss = 'sparse_categorical_crossentropy',\n",
    "                metrics = ['accuracy'])"
   ]
  },
  {
   "cell_type": "code",
   "execution_count": 435,
   "id": "a805cc9d",
   "metadata": {},
   "outputs": [
    {
     "data": {
      "text/plain": [
       "keras.engine.sequential.Sequential"
      ]
     },
     "execution_count": 435,
     "metadata": {},
     "output_type": "execute_result"
    }
   ],
   "source": [
    "type(model_1)"
   ]
  },
  {
   "cell_type": "code",
   "execution_count": 436,
   "id": "998508e7",
   "metadata": {},
   "outputs": [
    {
     "name": "stdout",
     "output_type": "stream",
     "text": [
      "Model: \"sequential_21\"\n",
      "_________________________________________________________________\n",
      " Layer (type)                Output Shape              Param #   \n",
      "=================================================================\n",
      " m1_hidden1 (Dense)          (None, 128)               393344    \n",
      "                                                                 \n",
      " m1_hidden2 (Dense)          (None, 64)                8256      \n",
      "                                                                 \n",
      " m1_hidden3 (Dense)          (None, 16)                1040      \n",
      "                                                                 \n",
      " mi_output (Dense)           (None, 10)                170       \n",
      "                                                                 \n",
      "=================================================================\n",
      "Total params: 402,810\n",
      "Trainable params: 402,810\n",
      "Non-trainable params: 0\n",
      "_________________________________________________________________\n"
     ]
    }
   ],
   "source": [
    "model_1.summary()"
   ]
  },
  {
   "cell_type": "code",
   "execution_count": 437,
   "id": "bee26fa8",
   "metadata": {},
   "outputs": [
    {
     "data": {
      "text/plain": [
       "402810"
      ]
     },
     "execution_count": 437,
     "metadata": {},
     "output_type": "execute_result"
    }
   ],
   "source": [
    "# Calculation of params\n",
    "32*32*3*128 + 128 + (128*64 + 64) + (64*16 +16) + (16 *10 +10)"
   ]
  },
  {
   "cell_type": "markdown",
   "id": "49287c0a",
   "metadata": {},
   "source": [
    "## Tensorboard (Visualising learning)"
   ]
  },
  {
   "cell_type": "code",
   "execution_count": 438,
   "id": "3739c157",
   "metadata": {},
   "outputs": [],
   "source": [
    "def get_tensorboard(model_name):\n",
    "\n",
    "    folder_name = f'{model_name} at {strftime(\"%H %M\")}' \n",
    "    #print(folder_name)\n",
    "\n",
    "    dir_paths = os.path.join(LOG_DIR, folder_name)\n",
    "\n",
    "    try:\n",
    "        os.makedirs(dir_paths)\n",
    "    except OSError as err:\n",
    "        print(err.strerror)\n",
    "    else:\n",
    "        print('Successfully created directory')\n",
    "\n",
    "    return TensorBoard(log_dir = dir_paths)"
   ]
  },
  {
   "cell_type": "markdown",
   "id": "a0b63c86",
   "metadata": {},
   "source": [
    "## Fit the Model "
   ]
  },
  {
   "cell_type": "code",
   "execution_count": 439,
   "id": "a957a279",
   "metadata": {},
   "outputs": [],
   "source": [
    "samples_per_batch = 1000"
   ]
  },
  {
   "cell_type": "code",
   "execution_count": 440,
   "id": "c5070260",
   "metadata": {
    "scrolled": true
   },
   "outputs": [],
   "source": [
    "#%%time \n",
    "\n",
    "#nr_epochs = 150\n",
    "\n",
    "#model_1.fit(x_train_xs,\n",
    "            #y_train_xs,\n",
    "            #batch_size = samples_per_batch,\n",
    "            #epochs= nr_epochs,\n",
    "            #callbacks = [get_tensorboard('Model_1')],\n",
    "            #verbose = 0, \n",
    "            #validation_data = (x_val, y_val))"
   ]
  },
  {
   "cell_type": "code",
   "execution_count": 441,
   "id": "f197d128",
   "metadata": {},
   "outputs": [
    {
     "name": "stdout",
     "output_type": "stream",
     "text": [
      "Successfully created directory\n",
      "CPU times: total: 9min 34s\n",
      "Wall time: 1min 43s\n"
     ]
    },
    {
     "data": {
      "text/plain": [
       "<keras.callbacks.History at 0x17ef37b41c0>"
      ]
     },
     "execution_count": 441,
     "metadata": {},
     "output_type": "execute_result"
    }
   ],
   "source": [
    "%%time \n",
    "\n",
    "nr_epochs = 100\n",
    "\n",
    "model_1.fit(x_train,\n",
    "            y_train,\n",
    "            batch_size = samples_per_batch,\n",
    "            epochs= nr_epochs,\n",
    "            callbacks = [get_tensorboard('Model_1 XL')],\n",
    "            verbose = 0, \n",
    "            validation_data = (x_val, y_val))"
   ]
  },
  {
   "cell_type": "code",
   "execution_count": 442,
   "id": "9adaf190",
   "metadata": {},
   "outputs": [
    {
     "name": "stdout",
     "output_type": "stream",
     "text": [
      "Successfully created directory\n",
      "CPU times: total: 19min 16s\n",
      "Wall time: 2min 57s\n"
     ]
    },
    {
     "data": {
      "text/plain": [
       "<keras.callbacks.History at 0x17ef3b15700>"
      ]
     },
     "execution_count": 442,
     "metadata": {},
     "output_type": "execute_result"
    }
   ],
   "source": [
    "%%time \n",
    "\n",
    "nr_epochs = 100\n",
    "\n",
    "model_2.fit(x_train,\n",
    "            y_train,\n",
    "            batch_size = samples_per_batch,\n",
    "            epochs= nr_epochs,\n",
    "            callbacks = [get_tensorboard('Model_2 XL')],\n",
    "            verbose = 0, \n",
    "            validation_data = (x_val, y_val))"
   ]
  },
  {
   "cell_type": "code",
   "execution_count": 443,
   "id": "b9940222",
   "metadata": {},
   "outputs": [
    {
     "name": "stdout",
     "output_type": "stream",
     "text": [
      "Successfully created directory\n",
      "CPU times: total: 19min 33s\n",
      "Wall time: 2min 57s\n"
     ]
    },
    {
     "data": {
      "text/plain": [
       "<keras.callbacks.History at 0x17ef3d9da30>"
      ]
     },
     "execution_count": 443,
     "metadata": {},
     "output_type": "execute_result"
    }
   ],
   "source": [
    "%%time \n",
    "\n",
    "nr_epochs = 100\n",
    "\n",
    "model_3.fit(x_train,\n",
    "            y_train,\n",
    "            batch_size = samples_per_batch,\n",
    "            epochs= nr_epochs,\n",
    "            callbacks = [get_tensorboard('Model_3 XL')],\n",
    "            verbose = 0, \n",
    "            validation_data = (x_val, y_val))"
   ]
  },
  {
   "cell_type": "code",
   "execution_count": 444,
   "id": "f18ff19b",
   "metadata": {},
   "outputs": [],
   "source": [
    "#%%time \n",
    "\n",
    "#nr_epochs = 150\n",
    "\n",
    "#model_2.fit(x_train_xs,\n",
    "            #y_train_xs,\n",
    "            #batch_size = samples_per_batch,\n",
    "            #epochs= nr_epochs,\n",
    "            #callbacks = [get_tensorboard('Model_2')],\n",
    "            #verbose = 0, \n",
    "            #validation_data = (x_val, y_val))"
   ]
  },
  {
   "cell_type": "markdown",
   "id": "b0365464",
   "metadata": {},
   "source": [
    "## Prediction on Individual Images"
   ]
  },
  {
   "cell_type": "code",
   "execution_count": 445,
   "id": "1e998714",
   "metadata": {},
   "outputs": [
    {
     "data": {
      "text/plain": [
       "(10000, 3072)"
      ]
     },
     "execution_count": 445,
     "metadata": {},
     "output_type": "execute_result"
    }
   ],
   "source": [
    "x_val.shape   # x_val contain 10000 images and each image has 3072 pixels "
   ]
  },
  {
   "cell_type": "code",
   "execution_count": 446,
   "id": "5e13aace",
   "metadata": {
    "scrolled": true
   },
   "outputs": [
    {
     "name": "stdout",
     "output_type": "stream",
     "text": [
      "(3072,)\n"
     ]
    }
   ],
   "source": [
    "print(x_val[0].shape)\n",
    "# print(x_val[0])        # 1 image as a 1d numpy array"
   ]
  },
  {
   "cell_type": "code",
   "execution_count": 447,
   "id": "676e7cc4",
   "metadata": {},
   "outputs": [
    {
     "data": {
      "text/plain": [
       "(1, 3072)"
      ]
     },
     "execution_count": 447,
     "metadata": {},
     "output_type": "execute_result"
    }
   ],
   "source": [
    "test = np.expand_dims(x_val[0], axis = 0)     # Expand from 1d to 2d array\n",
    "test.shape "
   ]
  },
  {
   "cell_type": "code",
   "execution_count": 448,
   "id": "da5f3b4a",
   "metadata": {},
   "outputs": [],
   "source": [
    "np.set_printoptions(precision=2)"
   ]
  },
  {
   "cell_type": "code",
   "execution_count": 449,
   "id": "9fb616c4",
   "metadata": {
    "scrolled": true
   },
   "outputs": [
    {
     "name": "stdout",
     "output_type": "stream",
     "text": [
      "1/1 [==============================] - 0s 254ms/step\n"
     ]
    }
   ],
   "source": [
    "prediction = model_2.predict(test)      # each image has 10 prediction"
   ]
  },
  {
   "cell_type": "code",
   "execution_count": 450,
   "id": "6c4ca510",
   "metadata": {},
   "outputs": [
    {
     "data": {
      "text/plain": [
       "0.99999994"
      ]
     },
     "execution_count": 450,
     "metadata": {},
     "output_type": "execute_result"
    }
   ],
   "source": [
    "prediction.sum()      # sum should be 1"
   ]
  },
  {
   "cell_type": "code",
   "execution_count": 451,
   "id": "6bf9ba61",
   "metadata": {},
   "outputs": [
    {
     "name": "stdout",
     "output_type": "stream",
     "text": [
      "313/313 [==============================] - 3s 9ms/step\n"
     ]
    },
    {
     "data": {
      "text/plain": [
       "(10000, 10)"
      ]
     },
     "execution_count": 451,
     "metadata": {},
     "output_type": "execute_result"
    }
   ],
   "source": [
    "model_2.predict(x_val).shape"
   ]
  },
  {
   "cell_type": "code",
   "execution_count": 452,
   "id": "ed7aec2a",
   "metadata": {},
   "outputs": [
    {
     "data": {
      "text/plain": [
       "array([6], dtype=int64)"
      ]
     },
     "execution_count": 452,
     "metadata": {},
     "output_type": "execute_result"
    }
   ],
   "source": [
    "np.argmax(prediction, axis=1)"
   ]
  },
  {
   "cell_type": "code",
   "execution_count": 453,
   "id": "2461488d",
   "metadata": {},
   "outputs": [
    {
     "data": {
      "text/plain": [
       "array([6], dtype=uint8)"
      ]
     },
     "execution_count": 453,
     "metadata": {},
     "output_type": "execute_result"
    }
   ],
   "source": [
    "y_val[0]"
   ]
  },
  {
   "cell_type": "code",
   "execution_count": 455,
   "id": "e1788980",
   "metadata": {},
   "outputs": [
    {
     "name": "stdout",
     "output_type": "stream",
     "text": [
      "1/1 [==============================] - 0s 102ms/step\n",
      "Actual value: 6 vs. Predicted value: 6\n",
      "1/1 [==============================] - 0s 43ms/step\n",
      "Actual value: 9 vs. Predicted value: 9\n",
      "1/1 [==============================] - 0s 60ms/step\n",
      "Actual value: 9 vs. Predicted value: 9\n",
      "1/1 [==============================] - 0s 51ms/step\n",
      "Actual value: 4 vs. Predicted value: 6\n",
      "1/1 [==============================] - 0s 40ms/step\n",
      "Actual value: 1 vs. Predicted value: 0\n",
      "1/1 [==============================] - 0s 47ms/step\n",
      "Actual value: 1 vs. Predicted value: 7\n",
      "1/1 [==============================] - 0s 36ms/step\n",
      "Actual value: 2 vs. Predicted value: 2\n",
      "1/1 [==============================] - 0s 45ms/step\n",
      "Actual value: 7 vs. Predicted value: 7\n",
      "1/1 [==============================] - 0s 43ms/step\n",
      "Actual value: 8 vs. Predicted value: 8\n",
      "1/1 [==============================] - 0s 43ms/step\n",
      "Actual value: 3 vs. Predicted value: 4\n"
     ]
    }
   ],
   "source": [
    "# prediction for first 10 images(around 50% prediction will be correct)\n",
    "\n",
    "for i in range(10):\n",
    "    test_img = np.expand_dims(x_val[i], axis = 0)\n",
    "    prediction = model_2.predict(test_img)\n",
    "    predicted_val = np.argmax(prediction, axis=1)[0]\n",
    "    print(f'Actual value: {y_val[i][0]} vs. Predicted value: {predicted_val}')\n",
    "    "
   ]
  },
  {
   "cell_type": "markdown",
   "id": "08f2d25d",
   "metadata": {},
   "source": [
    "## Evaluation"
   ]
  },
  {
   "cell_type": "code",
   "execution_count": 456,
   "id": "f14017e7",
   "metadata": {},
   "outputs": [
    {
     "data": {
      "text/plain": [
       "['loss', 'accuracy']"
      ]
     },
     "execution_count": 456,
     "metadata": {},
     "output_type": "execute_result"
    }
   ],
   "source": [
    "model_2.metrics_names"
   ]
  },
  {
   "cell_type": "code",
   "execution_count": 460,
   "id": "d72626b9",
   "metadata": {},
   "outputs": [
    {
     "name": "stdout",
     "output_type": "stream",
     "text": [
      "313/313 [==============================] - 1s 2ms/step - loss: 1.4509 - accuracy: 0.4821\n",
      "Test loss is: 1.45 and test accuracy is:48.2%\n"
     ]
    }
   ],
   "source": [
    "test_loss, test_accuracy = model_2.evaluate(x_test, y_test)\n",
    "print(f'Test loss is: {test_loss:0.3} and test accuracy is:{test_accuracy:0.1%}')"
   ]
  },
  {
   "cell_type": "code",
   "execution_count": 463,
   "id": "dacdeaa1",
   "metadata": {},
   "outputs": [
    {
     "name": "stdout",
     "output_type": "stream",
     "text": [
      "313/313 [==============================] - 1s 2ms/step\n"
     ]
    }
   ],
   "source": [
    "new_prediction = model_2.predict(x_test)\n",
    "# confution matrix from sklearn\n",
    "conf_matrix = confusion_matrix(y_true = y_test, y_pred = np.argmax(new_prediction, axis=1))\n"
   ]
  },
  {
   "cell_type": "code",
   "execution_count": 465,
   "id": "4097f3c5",
   "metadata": {},
   "outputs": [
    {
     "data": {
      "text/plain": [
       "(10, 10)"
      ]
     },
     "execution_count": 465,
     "metadata": {},
     "output_type": "execute_result"
    }
   ],
   "source": [
    "conf_matrix.shape"
   ]
  },
  {
   "cell_type": "code",
   "execution_count": 466,
   "id": "d5b383df",
   "metadata": {},
   "outputs": [],
   "source": [
    "nr_rows = conf_matrix.shape[0]\n",
    "nr_cols = conf_matrix.shape[1]"
   ]
  },
  {
   "cell_type": "code",
   "execution_count": 467,
   "id": "f0448a4b",
   "metadata": {},
   "outputs": [
    {
     "data": {
      "text/plain": [
       "689"
      ]
     },
     "execution_count": 467,
     "metadata": {},
     "output_type": "execute_result"
    }
   ],
   "source": [
    "conf_matrix.max()"
   ]
  },
  {
   "cell_type": "code",
   "execution_count": 469,
   "id": "2c51b5b6",
   "metadata": {},
   "outputs": [
    {
     "data": {
      "text/plain": [
       "7"
      ]
     },
     "execution_count": 469,
     "metadata": {},
     "output_type": "execute_result"
    }
   ],
   "source": [
    "conf_matrix.min()"
   ]
  },
  {
   "cell_type": "code",
   "execution_count": 481,
   "id": "1927acf8",
   "metadata": {},
   "outputs": [
    {
     "data": {
      "text/plain": [
       "array([534,  14,  75,  10,  84,  22,  31,  19, 185,  26], dtype=int64)"
      ]
     },
     "execution_count": 481,
     "metadata": {},
     "output_type": "execute_result"
    }
   ],
   "source": [
    "conf_matrix[0]"
   ]
  },
  {
   "cell_type": "code",
   "execution_count": 494,
   "id": "162b0e7b",
   "metadata": {},
   "outputs": [
    {
     "data": {
      "image/png": "[encoded data removed]",
      "text/plain": [
       "<Figure size 777x777 with 2 Axes>"
      ]
     },
     "metadata": {
      "needs_background": "light"
     },
     "output_type": "display_data"
    }
   ],
   "source": [
    "plt.figure(figsize=(7,7), dpi = 111)\n",
    "plt.imshow(conf_matrix, cmap = plt.cm.Greens)\n",
    "\n",
    "plt.title('Confution Matrix', fontsize = 15)\n",
    "plt.xlabel('Predicted Labels', fontsize = 12)\n",
    "plt.ylabel('Actual Labels', fontsize = 12)\n",
    "\n",
    "tick_marks = np.arange(NR_CLASSES)\n",
    "plt.yticks(tick_marks, LABEL_NAME)\n",
    "plt.xticks(tick_marks, LABEL_NAME)\n",
    "\n",
    "plt.colorbar()\n",
    "\n",
    "# Nested for loop to print each green box value (using itertools)\n",
    "\n",
    "for i, j in itertools.product(range(nr_rows), range(nr_cols)):\n",
    "    plt.text(j, i, conf_matrix[i, j], horizontalalignment = 'center',\n",
    "            color = 'white' if conf_matrix[i, j] > conf_matrix.max()/2 else 'black')\n",
    "    \n",
    "\n",
    "plt.show()"
   ]
  },
  {
   "cell_type": "code",
   "execution_count": 495,
   "id": "a8cf9a96",
   "metadata": {},
   "outputs": [
    {
     "data": {
      "text/plain": [
       "array([534, 517, 270, 269, 552, 395, 646, 476, 689, 473], dtype=int64)"
      ]
     },
     "execution_count": 495,
     "metadata": {},
     "output_type": "execute_result"
    }
   ],
   "source": [
    "# True positive along the diagonal\n",
    "np.diag(conf_matrix)"
   ]
  },
  {
   "cell_type": "code",
   "execution_count": 496,
   "id": "e58b7823",
   "metadata": {},
   "outputs": [
    {
     "data": {
      "text/plain": [
       "array([0.53, 0.52, 0.27, 0.27, 0.55, 0.4 , 0.65, 0.48, 0.69, 0.47])"
      ]
     },
     "execution_count": 496,
     "metadata": {},
     "output_type": "execute_result"
    }
   ],
   "source": [
    "recall = np.diag(conf_matrix) / np.sum(conf_matrix, axis = 1)\n",
    "recall"
   ]
  },
  {
   "cell_type": "code",
   "execution_count": 497,
   "id": "793ba666",
   "metadata": {},
   "outputs": [
    {
     "data": {
      "text/plain": [
       "array([0.58, 0.68, 0.37, 0.36, 0.35, 0.4 , 0.48, 0.62, 0.51, 0.6 ])"
      ]
     },
     "execution_count": 497,
     "metadata": {},
     "output_type": "execute_result"
    }
   ],
   "source": [
    "precision = np.diag(conf_matrix) / np.sum(conf_matrix, axis = 0)\n",
    "precision"
   ]
  },
  {
   "cell_type": "code",
   "execution_count": 498,
   "id": "358c4eb9",
   "metadata": {},
   "outputs": [
    {
     "name": "stdout",
     "output_type": "stream",
     "text": [
      "Model 2 recall score is: 48.21%\n"
     ]
    }
   ],
   "source": [
    "# Average recall for whole model\n",
    "avg_recall = np.mean(recall)\n",
    "print(f'Model 2 recall score is: {avg_recall:.2%}')"
   ]
  },
  {
   "cell_type": "code",
   "execution_count": 499,
   "id": "4e683b16",
   "metadata": {},
   "outputs": [
    {
     "name": "stdout",
     "output_type": "stream",
     "text": [
      "Model 2 precision score is: 49.40%\n"
     ]
    }
   ],
   "source": [
    "# Average precision for whole model\n",
    "avg_precision = np.mean(precision)\n",
    "print(f'Model 2 precision score is: {avg_precision:.2%}')"
   ]
  },
  {
   "cell_type": "code",
   "execution_count": 500,
   "id": "22806f43",
   "metadata": {},
   "outputs": [
    {
     "name": "stdout",
     "output_type": "stream",
     "text": [
      "Model 2 F-score is: 48.80%\n"
     ]
    }
   ],
   "source": [
    "# Calculate the F-score\n",
    "\n",
    "F_score = 2 * (avg_precision * avg_recall) / (avg_precision + avg_recall)\n",
    "print(f'Model 2 F-score is: {F_score:.2%}')"
   ]
  },
  {
   "cell_type": "code",
   "execution_count": null,
   "id": "7e0caac6",
   "metadata": {},
   "outputs": [],
   "source": []
  }
 ],
 "metadata": {
  "kernelspec": {
   "display_name": "Python 3 (ipykernel)",
   "language": "python",
   "name": "python3"
  },
  "language_info": {
   "codemirror_mode": {
    "name": "ipython",
    "version": 3
   },
   "file_extension": ".py",
   "mimetype": "text/x-python",
   "name": "python",
   "nbconvert_exporter": "python",
   "pygments_lexer": "ipython3",
   "version": "3.9.12"
  }
 },
 "nbformat": 4,
 "nbformat_minor": 5
}
